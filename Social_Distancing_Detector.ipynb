{
  "nbformat": 4,
  "nbformat_minor": 0,
  "metadata": {
    "colab": {
      "private_outputs": true,
      "provenance": [],
      "gpuType": "T4"
    },
    "kernelspec": {
      "name": "python3",
      "display_name": "Python 3"
    },
    "language_info": {
      "name": "python"
    },
    "accelerator": "GPU"
  },
  "cells": [
    {
      "cell_type": "code",
      "execution_count": null,
      "metadata": {
        "id": "Wi3mMZk31--Y"
      },
      "outputs": [],
      "source": [
        "!pip install opencv-python\n",
        "!pip install numpy\n"
      ]
    },
    {
      "cell_type": "code",
      "source": [
        "import os\n",
        "\n",
        "# Create a directory to store YOLO model files\n",
        "os.makedirs(\"yolo-coco\", exist_ok=True)\n",
        "\n",
        "# Download YOLO model weights\n",
        "!wget -q -O yolo-coco/yolov3.weights https://pjreddie.com/media/files/yolov3.weights\n",
        "\n",
        "# Download YOLO model configuration\n",
        "!wget -q -O yolo-coco/yolov3.cfg https://raw.githubusercontent.com/pjreddie/darknet/master/cfg/yolov3.cfg\n",
        "\n",
        "# Download COCO names file\n",
        "!wget -q -O yolo-coco/coco.names https://raw.githubusercontent.com/pjreddie/darknet/master/data/coco.names\n"
      ],
      "metadata": {
        "id": "AdHxZBll2tad"
      },
      "execution_count": null,
      "outputs": []
    },
    {
      "cell_type": "code",
      "source": [],
      "metadata": {
        "id": "xsy1O4aQmbp2"
      },
      "execution_count": null,
      "outputs": []
    },
    {
      "cell_type": "markdown",
      "source": [
        "# Will print some sample from each of the directories in yolo-coco"
      ],
      "metadata": {
        "id": "HbkJSyR9C4zu"
      }
    },
    {
      "cell_type": "code",
      "source": [
        "import os\n",
        "\n",
        "# List the contents of the yolo-coco directory\n",
        "print(\"Contents of yolo-coco directory:\")\n",
        "print(os.listdir(\"yolo-coco\"))\n",
        "\n",
        "# Print the size of the weights file\n",
        "weights_path = \"yolo-coco/yolov3.weights\"\n",
        "weights_size = os.path.getsize(weights_path)\n",
        "print(f\"\\nSize of yolov3.weights: {weights_size} bytes\")\n",
        "\n",
        "# Print the first 10 lines of the configuration file\n",
        "cfg_path = \"yolo-coco/yolov3.cfg\"\n",
        "print(\"\\nFirst 10 lines of yolov3.cfg:\")\n",
        "with open(cfg_path, 'r') as f:\n",
        "    for i in range(10):\n",
        "        print(f.readline().strip())\n",
        "\n",
        "# Print all class labels from coco.names\n",
        "names_path = \"yolo-coco/coco.names\"\n",
        "print(\"\\nClass labels in coco.names:\")\n",
        "with open(names_path, 'r') as f:\n",
        "    class_labels = f.read().strip().split('\\n')\n",
        "    for label in class_labels:\n",
        "        print(label)\n"
      ],
      "metadata": {
        "id": "9SaX9aXQC33p"
      },
      "execution_count": null,
      "outputs": []
    },
    {
      "cell_type": "code",
      "source": [
        "import cv2\n",
        "import numpy as np\n",
        "\n",
        "class Config:\n",
        "    MODEL_PATH = \"yolo-coco\"\n",
        "    MIN_CONF = 0.3\n",
        "    NMS_THRESH = 0.3\n",
        "    USE_GPU = True\n",
        "    MIN_DISTANCE = 50\n",
        "\n",
        "# Load YOLO model\n",
        "# cv2.dnn.readNetFromDarknet: Loads the YOLO model from the specified configuration and weights files.\n",
        "# os.path.join(Config.MODEL_PATH, \"yolov3.cfg\"): Constructs the path to the YOLO configuration file.\n",
        "# os.path.join(Config.MODEL_PATH, \"yolov3.weights\"): Constructs the path to the YOLO weights file.\n",
        "# net: The loaded YOLO mode\n",
        "net = cv2.dnn.readNetFromDarknet(\n",
        "    os.path.join(Config.MODEL_PATH, \"yolov3.cfg\"),\n",
        "    os.path.join(Config.MODEL_PATH, \"yolov3.weights\")\n",
        ")\n",
        "# labelsPath: Constructs the path to the COCO class labels file.\n",
        "# open(labelsPath).read(): Reads the contents of the COCO names file.\n",
        "# strip().split(\"\\n\"): Splits the contents by newline characters to create a list of class labels.\n",
        "# LABELS: A list containing the names of the classes that YOLO can detect, such as \"person\", \"bicycle\", \"car\", etc\n",
        "labelsPath = os.path.join(Config.MODEL_PATH, \"coco.names\")\n",
        "LABELS = open(labelsPath).read().strip().split(\"\\n\")\n",
        "\n",
        "# Get YOLO output layer names\n",
        "ln = net.getLayerNames()\n",
        "ln = [ln[i - 1] for i in net.getUnconnectedOutLayers()]\n",
        "\n",
        "# Set the preferred backend and target to GPU if configured\n",
        "if Config.USE_GPU:\n",
        "    net.setPreferableBackend(cv2.dnn.DNN_BACKEND_CUDA)\n",
        "    net.setPreferableTarget(cv2.dnn.DNN_TARGET_CUDA)\n"
      ],
      "metadata": {
        "id": "7Nd9gFrZ22Za"
      },
      "execution_count": null,
      "outputs": []
    },
    {
      "cell_type": "code",
      "source": [
        "def detect_people(frame, net, ln, personIdx=0):\n",
        "    (H, W) = frame.shape[:2]\n",
        "    results = []\n",
        "\n",
        "    blob = cv2.dnn.blobFromImage(frame, 1 / 255.0, (416, 416), swapRB=True, crop=False)\n",
        "    net.setInput(blob)\n",
        "    layerOutputs = net.forward(ln)\n",
        "\n",
        "    boxes = []\n",
        "    centroids = []\n",
        "    confidences = []\n",
        "\n",
        "    for output in layerOutputs:\n",
        "        for detection in output:\n",
        "            scores = detection[5:]\n",
        "            classID = np.argmax(scores)\n",
        "            confidence = scores[classID]\n",
        "\n",
        "            if classID == personIdx and confidence > Config.MIN_CONF:\n",
        "                box = detection[0:4] * np.array([W, H, W, H])\n",
        "                (centerX, centerY, width, height) = box.astype(\"int\")\n",
        "\n",
        "                x = int(centerX - (width / 2))\n",
        "                y = int(centerY - (height / 2))\n",
        "\n",
        "                boxes.append([x, y, int(width), int(height)])\n",
        "                centroids.append((centerX, centerY))\n",
        "                confidences.append(float(confidence))\n",
        "\n",
        "    idxs = cv2.dnn.NMSBoxes(boxes, confidences, Config.MIN_CONF, Config.NMS_THRESH)\n",
        "\n",
        "    if len(idxs) > 0:\n",
        "        for i in idxs.flatten():\n",
        "            (x, y) = (boxes[i][0], boxes[i][1])\n",
        "            (w, h) = (boxes[i][2], boxes[i][3])\n",
        "            r = (confidences[i], (x, y, x + w, y + h), centroids[i])\n",
        "            results.append(r)\n",
        "\n",
        "    return results\n",
        "\n",
        "def euclidean_dist(pt1, pt2):\n",
        "    return np.sqrt((pt1[0] - pt2[0]) ** 2 + (pt1[1] - pt2[1]) ** 2)\n"
      ],
      "metadata": {
        "id": "rgxgAabh3CWT"
      },
      "execution_count": null,
      "outputs": []
    },
    {
      "cell_type": "code",
      "source": [
        "# Open the video file\n",
        "video_path = \"/content/pedestrians.mp4\"\n",
        "vs = cv2.VideoCapture(video_path)\n",
        "\n",
        "output_path = \"output_video.avi\"\n",
        "fourcc = cv2.VideoWriter_fourcc(*\"XVID\")\n",
        "writer = None\n",
        "(W, H) = (None, None)\n",
        "\n",
        "while True:\n",
        "    (grabbed, frame) = vs.read()\n",
        "    if not grabbed:\n",
        "        break\n",
        "\n",
        "    results = detect_people(frame, net, ln, personIdx=LABELS.index(\"person\"))\n",
        "\n",
        "    violate = set()\n",
        "\n",
        "    if len(results) >= 2:\n",
        "        centroids = np.array([r[2] for r in results])\n",
        "        D = np.zeros((len(centroids), len(centroids)), dtype=\"float\")\n",
        "\n",
        "        for i in range(0, len(centroids)):\n",
        "            for j in range(i + 1, len(centroids)):\n",
        "                D[i, j] = euclidean_dist(centroids[i], centroids[j])\n",
        "\n",
        "                if D[i, j] < Config.MIN_DISTANCE:\n",
        "                    violate.add(i)\n",
        "                    violate.add(j)\n",
        "\n",
        "    for (i, (prob, bbox, centroid)) in enumerate(results):\n",
        "        (startX, startY, endX, endY) = bbox\n",
        "        (cX, cY) = centroid\n",
        "\n",
        "        color = (0, 255, 0)\n",
        "        if i in violate:\n",
        "            color = (0, 0, 255)\n",
        "\n",
        "        cv2.rectangle(frame, (startX, startY), (endX, endY), color, 2)\n",
        "        cv2.circle(frame, (cX, cY), 5, color, 1)\n",
        "\n",
        "    text = \"Social Distancing Violations: {}\".format(len(violate))\n",
        "    cv2.putText(frame, text, (10, frame.shape[0] - 25),\n",
        "                cv2.FONT_HERSHEY_SIMPLEX, 0.85, (0, 0, 255), 3)\n",
        "\n",
        "    if writer is None:\n",
        "        (H, W) = frame.shape[:2]\n",
        "        writer = cv2.VideoWriter(output_path, fourcc, 25, (W, H), True)\n",
        "\n",
        "    writer.write(frame)\n",
        "\n",
        "writer.release()\n",
        "vs.release()\n"
      ],
      "metadata": {
        "id": "MEKGt09-3GWs"
      },
      "execution_count": null,
      "outputs": []
    },
    {
      "cell_type": "code",
      "source": [
        "from google.colab import files\n",
        "files.download(output_path)\n"
      ],
      "metadata": {
        "id": "8IfFb2m45FHE"
      },
      "execution_count": null,
      "outputs": []
    }
  ]
}